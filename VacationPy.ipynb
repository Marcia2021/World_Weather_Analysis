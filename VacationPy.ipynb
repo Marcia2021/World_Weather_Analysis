{
 "cells": [
  {
   "cell_type": "code",
   "execution_count": 3,
   "metadata": {},
   "outputs": [],
   "source": [
    "# Import the dependencies.\n",
    "import pandas as pd\n",
    "import gmaps\n",
    "import requests\n",
    "# Import the API key.\n",
    "from config import g_key"
   ]
  },
  {
   "cell_type": "code",
   "execution_count": 4,
   "metadata": {},
   "outputs": [
    {
     "output_type": "execute_result",
     "data": {
      "text/plain": [
       "   City_ID             City Country                 Date      Lat       Lng  \\\n",
       "0        0  Haines Junction      CA  2021-04-03 12:35:12  60.7522 -137.5108   \n",
       "1        1          Kavieng      PG  2021-04-03 12:35:12  -2.5744  150.7967   \n",
       "2        2            Bluff      NZ  2021-04-03 12:35:12 -46.6000  168.3333   \n",
       "3        3            Pevek      RU  2021-04-03 12:35:13  69.7008  170.3133   \n",
       "4        4        Ostrovnoy      RU  2021-04-03 12:35:13  68.0531   39.5131   \n",
       "\n",
       "   Max Temp  Humidity  Cloudiness  Wind Speed  \n",
       "0     -0.40        85         100        1.72  \n",
       "1     82.62        76          39        6.98  \n",
       "2     57.99        50          83       11.99  \n",
       "3    -24.14        97          37        2.30  \n",
       "4     28.26        88          33        8.97  "
      ],
      "text/html": "<div>\n<style scoped>\n    .dataframe tbody tr th:only-of-type {\n        vertical-align: middle;\n    }\n\n    .dataframe tbody tr th {\n        vertical-align: top;\n    }\n\n    .dataframe thead th {\n        text-align: right;\n    }\n</style>\n<table border=\"1\" class=\"dataframe\">\n  <thead>\n    <tr style=\"text-align: right;\">\n      <th></th>\n      <th>City_ID</th>\n      <th>City</th>\n      <th>Country</th>\n      <th>Date</th>\n      <th>Lat</th>\n      <th>Lng</th>\n      <th>Max Temp</th>\n      <th>Humidity</th>\n      <th>Cloudiness</th>\n      <th>Wind Speed</th>\n    </tr>\n  </thead>\n  <tbody>\n    <tr>\n      <th>0</th>\n      <td>0</td>\n      <td>Haines Junction</td>\n      <td>CA</td>\n      <td>2021-04-03 12:35:12</td>\n      <td>60.7522</td>\n      <td>-137.5108</td>\n      <td>-0.40</td>\n      <td>85</td>\n      <td>100</td>\n      <td>1.72</td>\n    </tr>\n    <tr>\n      <th>1</th>\n      <td>1</td>\n      <td>Kavieng</td>\n      <td>PG</td>\n      <td>2021-04-03 12:35:12</td>\n      <td>-2.5744</td>\n      <td>150.7967</td>\n      <td>82.62</td>\n      <td>76</td>\n      <td>39</td>\n      <td>6.98</td>\n    </tr>\n    <tr>\n      <th>2</th>\n      <td>2</td>\n      <td>Bluff</td>\n      <td>NZ</td>\n      <td>2021-04-03 12:35:12</td>\n      <td>-46.6000</td>\n      <td>168.3333</td>\n      <td>57.99</td>\n      <td>50</td>\n      <td>83</td>\n      <td>11.99</td>\n    </tr>\n    <tr>\n      <th>3</th>\n      <td>3</td>\n      <td>Pevek</td>\n      <td>RU</td>\n      <td>2021-04-03 12:35:13</td>\n      <td>69.7008</td>\n      <td>170.3133</td>\n      <td>-24.14</td>\n      <td>97</td>\n      <td>37</td>\n      <td>2.30</td>\n    </tr>\n    <tr>\n      <th>4</th>\n      <td>4</td>\n      <td>Ostrovnoy</td>\n      <td>RU</td>\n      <td>2021-04-03 12:35:13</td>\n      <td>68.0531</td>\n      <td>39.5131</td>\n      <td>28.26</td>\n      <td>88</td>\n      <td>33</td>\n      <td>8.97</td>\n    </tr>\n  </tbody>\n</table>\n</div>"
     },
     "metadata": {},
     "execution_count": 4
    }
   ],
   "source": [
    "# Store the CSV you saved created in part one into a DataFrame.\n",
    "city_data_df = pd.read_csv(\"weather_data/citis.csv\")\n",
    "city_data_df.head()"
   ]
  },
  {
   "cell_type": "code",
   "execution_count": 5,
   "metadata": {},
   "outputs": [
    {
     "output_type": "execute_result",
     "data": {
      "text/plain": [
       "City_ID         int64\n",
       "City           object\n",
       "Country        object\n",
       "Date           object\n",
       "Lat           float64\n",
       "Lng           float64\n",
       "Max Temp      float64\n",
       "Humidity        int64\n",
       "Cloudiness      int64\n",
       "Wind Speed    float64\n",
       "dtype: object"
      ]
     },
     "metadata": {},
     "execution_count": 5
    }
   ],
   "source": [
    "city_data_df.dtypes"
   ]
  },
  {
   "cell_type": "code",
   "execution_count": 6,
   "metadata": {},
   "outputs": [],
   "source": [
    "# Configure gmaps to use your Google API key.\n",
    "gmaps.configure(api_key=g_key)"
   ]
  },
  {
   "cell_type": "code",
   "execution_count": 7,
   "metadata": {},
   "outputs": [
    {
     "output_type": "display_data",
     "data": {
      "text/plain": "Figure(layout=FigureLayout(height='420px'))",
      "application/vnd.jupyter.widget-view+json": {
       "version_major": 2,
       "version_minor": 0,
       "model_id": "2aac77d48fe841539b0fc9fb4fa036c8"
      }
     },
     "metadata": {}
    }
   ],
   "source": [
    "# Heatmap of temperature\n",
    "# Get the latitude and longitude.\n",
    "locations = city_data_df[[\"Lat\", \"Lng\"]]\n",
    "\n",
    "# Get the maximum temperature.\n",
    "max_temp = city_data_df[\"Max Temp\"]\n",
    "\n",
    "# Assign the figure variable.\n",
    "fig = gmaps.figure(center=(30.0, 31.0), zoom_level=1.5)\n",
    "\n",
    "# Assign the heatmap variable.\n",
    "heat_layer = gmaps.heatmap_layer(locations, \n",
    "                                 weights=[max(temp, 0) for temp in max_temp], \n",
    "                                 dissipating=False, \n",
    "                                 max_intensity=300, \n",
    "                                 point_radius=4)\n",
    "\n",
    "# Add the heatmap layer.\n",
    "fig.add_layer(heat_layer)\n",
    "\n",
    "# Call the figure to plot the data.\n",
    "fig"
   ]
  },
  {
   "cell_type": "code",
   "execution_count": 8,
   "metadata": {},
   "outputs": [
    {
     "output_type": "display_data",
     "data": {
      "text/plain": "Figure(layout=FigureLayout(height='420px'))",
      "application/vnd.jupyter.widget-view+json": {
       "version_major": 2,
       "version_minor": 0,
       "model_id": "cabe43dfc1494581884295a0014b9d94"
      }
     },
     "metadata": {}
    }
   ],
   "source": [
    "# Heatmap of percent humidity\n",
    "locations = city_data_df[[\"Lat\", \"Lng\"]]\n",
    "humidity = city_data_df[\"Humidity\"]\n",
    "fig = gmaps.figure(center=(30.0, 31.0), zoom_level=1.5)\n",
    "heat_layer = gmaps.heatmap_layer(locations, \n",
    "                                 weights=humidity, \n",
    "                                 dissipating=False,\n",
    "                                 max_intensity=300, \n",
    "                                 point_radius=4)\n",
    "\n",
    "fig.add_layer(heat_layer)\n",
    "# Call the figure to plot the data.\n",
    "fig"
   ]
  },
  {
   "cell_type": "code",
   "execution_count": 9,
   "metadata": {},
   "outputs": [
    {
     "output_type": "display_data",
     "data": {
      "text/plain": "Figure(layout=FigureLayout(height='420px'))",
      "application/vnd.jupyter.widget-view+json": {
       "version_major": 2,
       "version_minor": 0,
       "model_id": "0c37fcd910c747c18a2139397ce1299e"
      }
     },
     "metadata": {}
    }
   ],
   "source": [
    "# Heatmap of percent cloudiness\n",
    "locations = city_data_df[[\"Lat\", \"Lng\"]]\n",
    "clouds = city_data_df[\"Humidity\"]\n",
    "fig = gmaps.figure(center=(30.0, 31.0), zoom_level=1.5)\n",
    "heat_layer = gmaps.heatmap_layer(locations, \n",
    "                                 weights=clouds,\n",
    "                                 dissipating=False, \n",
    "                                 max_intensity=300, \n",
    "                                 point_radius=4)\n",
    "\n",
    "fig.add_layer(heat_layer)\n",
    "# Call the figure to plot the data.\n",
    "fig"
   ]
  },
  {
   "cell_type": "code",
   "execution_count": 10,
   "metadata": {},
   "outputs": [
    {
     "output_type": "display_data",
     "data": {
      "text/plain": "Figure(layout=FigureLayout(height='420px'))",
      "application/vnd.jupyter.widget-view+json": {
       "version_major": 2,
       "version_minor": 0,
       "model_id": "46d8e3e2bf0e4627b70c32cf46ef2b43"
      }
     },
     "metadata": {}
    }
   ],
   "source": [
    "# Heatmap of percent Wind Speed\n",
    "locations = city_data_df[[\"Lat\", \"Lng\"]]\n",
    "wind = city_data_df[\"Wind Speed\"]\n",
    "fig = gmaps.figure(center=(30.0, 31.0), zoom_level=1.5)\n",
    "heat_layer = gmaps.heatmap_layer(locations, \n",
    "                                 weights=wind,\n",
    "                                 dissipating=False, \n",
    "                                 max_intensity=300, \n",
    "                                 point_radius=4)\n",
    "\n",
    "fig.add_layer(heat_layer)\n",
    "# Call the figure to plot the data.\n",
    "fig"
   ]
  },
  {
   "cell_type": "code",
   "execution_count": 11,
   "metadata": {},
   "outputs": [],
   "source": [
    "# Ask the customer to add a minimum and maximum temperature value.\n",
    "min_temp = float(input(\"What is the minimum temperature you would like for your trip? \"))\n",
    "max_temp = float(input(\"What is the maximum temperature you would like for your trip? \"))"
   ]
  },
  {
   "cell_type": "code",
   "execution_count": 12,
   "metadata": {},
   "outputs": [
    {
     "output_type": "execute_result",
     "data": {
      "text/plain": [
       "    City_ID             City Country                 Date      Lat       Lng  \\\n",
       "1         1          Kavieng      PG  2021-04-03 12:35:12  -2.5744  150.7967   \n",
       "6         6           Harper      LR  2021-04-03 12:35:13   4.3750   -7.7169   \n",
       "8         8            Hobyo      SO  2021-04-03 12:35:14   5.3505   48.5268   \n",
       "13       13  Arraial Do Cabo      BR  2021-04-03 12:35:15 -22.9661  -42.0278   \n",
       "14       14            Vaini      TO  2021-04-03 12:35:15 -21.2000 -175.2000   \n",
       "15       15           Owando      CG  2021-04-03 12:35:15  -0.4819   15.8999   \n",
       "20       20         Ilhabela      BR  2021-04-03 12:35:17 -23.7781  -45.3581   \n",
       "21       21            Conde      BR  2021-04-03 12:35:17  -7.2597  -34.9075   \n",
       "22       22        Roebourne      AU  2021-04-03 12:35:17 -20.7833  117.1333   \n",
       "25       25         Acapulco      MX  2021-04-03 12:32:26  16.8634  -99.8901   \n",
       "\n",
       "    Max Temp  Humidity  Cloudiness  Wind Speed  \n",
       "1      82.62        76          39        6.98  \n",
       "6      85.53        66          86        6.64  \n",
       "8      86.52        61          12       13.29  \n",
       "13     78.80        78           0        6.91  \n",
       "14     77.00        94          75        3.44  \n",
       "15     81.86        64          88        6.98  \n",
       "20     77.72        65           4        2.46  \n",
       "21     84.20        84          75       10.36  \n",
       "22     85.03        54          55        4.16  \n",
       "25     77.41        57           0        5.53  "
      ],
      "text/html": "<div>\n<style scoped>\n    .dataframe tbody tr th:only-of-type {\n        vertical-align: middle;\n    }\n\n    .dataframe tbody tr th {\n        vertical-align: top;\n    }\n\n    .dataframe thead th {\n        text-align: right;\n    }\n</style>\n<table border=\"1\" class=\"dataframe\">\n  <thead>\n    <tr style=\"text-align: right;\">\n      <th></th>\n      <th>City_ID</th>\n      <th>City</th>\n      <th>Country</th>\n      <th>Date</th>\n      <th>Lat</th>\n      <th>Lng</th>\n      <th>Max Temp</th>\n      <th>Humidity</th>\n      <th>Cloudiness</th>\n      <th>Wind Speed</th>\n    </tr>\n  </thead>\n  <tbody>\n    <tr>\n      <th>1</th>\n      <td>1</td>\n      <td>Kavieng</td>\n      <td>PG</td>\n      <td>2021-04-03 12:35:12</td>\n      <td>-2.5744</td>\n      <td>150.7967</td>\n      <td>82.62</td>\n      <td>76</td>\n      <td>39</td>\n      <td>6.98</td>\n    </tr>\n    <tr>\n      <th>6</th>\n      <td>6</td>\n      <td>Harper</td>\n      <td>LR</td>\n      <td>2021-04-03 12:35:13</td>\n      <td>4.3750</td>\n      <td>-7.7169</td>\n      <td>85.53</td>\n      <td>66</td>\n      <td>86</td>\n      <td>6.64</td>\n    </tr>\n    <tr>\n      <th>8</th>\n      <td>8</td>\n      <td>Hobyo</td>\n      <td>SO</td>\n      <td>2021-04-03 12:35:14</td>\n      <td>5.3505</td>\n      <td>48.5268</td>\n      <td>86.52</td>\n      <td>61</td>\n      <td>12</td>\n      <td>13.29</td>\n    </tr>\n    <tr>\n      <th>13</th>\n      <td>13</td>\n      <td>Arraial Do Cabo</td>\n      <td>BR</td>\n      <td>2021-04-03 12:35:15</td>\n      <td>-22.9661</td>\n      <td>-42.0278</td>\n      <td>78.80</td>\n      <td>78</td>\n      <td>0</td>\n      <td>6.91</td>\n    </tr>\n    <tr>\n      <th>14</th>\n      <td>14</td>\n      <td>Vaini</td>\n      <td>TO</td>\n      <td>2021-04-03 12:35:15</td>\n      <td>-21.2000</td>\n      <td>-175.2000</td>\n      <td>77.00</td>\n      <td>94</td>\n      <td>75</td>\n      <td>3.44</td>\n    </tr>\n    <tr>\n      <th>15</th>\n      <td>15</td>\n      <td>Owando</td>\n      <td>CG</td>\n      <td>2021-04-03 12:35:15</td>\n      <td>-0.4819</td>\n      <td>15.8999</td>\n      <td>81.86</td>\n      <td>64</td>\n      <td>88</td>\n      <td>6.98</td>\n    </tr>\n    <tr>\n      <th>20</th>\n      <td>20</td>\n      <td>Ilhabela</td>\n      <td>BR</td>\n      <td>2021-04-03 12:35:17</td>\n      <td>-23.7781</td>\n      <td>-45.3581</td>\n      <td>77.72</td>\n      <td>65</td>\n      <td>4</td>\n      <td>2.46</td>\n    </tr>\n    <tr>\n      <th>21</th>\n      <td>21</td>\n      <td>Conde</td>\n      <td>BR</td>\n      <td>2021-04-03 12:35:17</td>\n      <td>-7.2597</td>\n      <td>-34.9075</td>\n      <td>84.20</td>\n      <td>84</td>\n      <td>75</td>\n      <td>10.36</td>\n    </tr>\n    <tr>\n      <th>22</th>\n      <td>22</td>\n      <td>Roebourne</td>\n      <td>AU</td>\n      <td>2021-04-03 12:35:17</td>\n      <td>-20.7833</td>\n      <td>117.1333</td>\n      <td>85.03</td>\n      <td>54</td>\n      <td>55</td>\n      <td>4.16</td>\n    </tr>\n    <tr>\n      <th>25</th>\n      <td>25</td>\n      <td>Acapulco</td>\n      <td>MX</td>\n      <td>2021-04-03 12:32:26</td>\n      <td>16.8634</td>\n      <td>-99.8901</td>\n      <td>77.41</td>\n      <td>57</td>\n      <td>0</td>\n      <td>5.53</td>\n    </tr>\n  </tbody>\n</table>\n</div>"
     },
     "metadata": {},
     "execution_count": 12
    }
   ],
   "source": [
    "# Filter the dataset to find the cities that fit the criteria.\n",
    "preferred_cities_df = city_data_df.loc[(city_data_df[\"Max Temp\"] <= max_temp) & \\\n",
    "                                       (city_data_df[\"Max Temp\"] >= min_temp)]\n",
    "preferred_cities_df.head(10)"
   ]
  },
  {
   "cell_type": "code",
   "execution_count": 13,
   "metadata": {},
   "outputs": [
    {
     "output_type": "execute_result",
     "data": {
      "text/plain": [
       "City_ID       187\n",
       "City          187\n",
       "Country       184\n",
       "Date          187\n",
       "Lat           187\n",
       "Lng           187\n",
       "Max Temp      187\n",
       "Humidity      187\n",
       "Cloudiness    187\n",
       "Wind Speed    187\n",
       "dtype: int64"
      ]
     },
     "metadata": {},
     "execution_count": 13
    }
   ],
   "source": [
    "# Check if there are null values in the dataframe\n",
    "preferred_cities_df.count()"
   ]
  },
  {
   "cell_type": "code",
   "execution_count": 14,
   "metadata": {},
   "outputs": [
    {
     "output_type": "execute_result",
     "data": {
      "text/plain": [
       "City_ID       184\n",
       "City          184\n",
       "Country       184\n",
       "Date          184\n",
       "Lat           184\n",
       "Lng           184\n",
       "Max Temp      184\n",
       "Humidity      184\n",
       "Cloudiness    184\n",
       "Wind Speed    184\n",
       "dtype: int64"
      ]
     },
     "metadata": {},
     "execution_count": 14
    }
   ],
   "source": [
    "# Remove the null values from the dataframe\n",
    "preferred_cities_df = preferred_cities_df.dropna()\n",
    "preferred_cities_df.count()"
   ]
  },
  {
   "cell_type": "code",
   "execution_count": 15,
   "metadata": {},
   "outputs": [
    {
     "output_type": "execute_result",
     "data": {
      "text/plain": [
       "               City Country  Max Temp      Lat       Lng Hotel Name\n",
       "1           Kavieng      PG     82.62  -2.5744  150.7967           \n",
       "6            Harper      LR     85.53   4.3750   -7.7169           \n",
       "8             Hobyo      SO     86.52   5.3505   48.5268           \n",
       "13  Arraial Do Cabo      BR     78.80 -22.9661  -42.0278           \n",
       "14            Vaini      TO     77.00 -21.2000 -175.2000           \n",
       "15           Owando      CG     81.86  -0.4819   15.8999           \n",
       "20         Ilhabela      BR     77.72 -23.7781  -45.3581           \n",
       "21            Conde      BR     84.20  -7.2597  -34.9075           \n",
       "22        Roebourne      AU     85.03 -20.7833  117.1333           \n",
       "25         Acapulco      MX     77.41  16.8634  -99.8901           "
      ],
      "text/html": "<div>\n<style scoped>\n    .dataframe tbody tr th:only-of-type {\n        vertical-align: middle;\n    }\n\n    .dataframe tbody tr th {\n        vertical-align: top;\n    }\n\n    .dataframe thead th {\n        text-align: right;\n    }\n</style>\n<table border=\"1\" class=\"dataframe\">\n  <thead>\n    <tr style=\"text-align: right;\">\n      <th></th>\n      <th>City</th>\n      <th>Country</th>\n      <th>Max Temp</th>\n      <th>Lat</th>\n      <th>Lng</th>\n      <th>Hotel Name</th>\n    </tr>\n  </thead>\n  <tbody>\n    <tr>\n      <th>1</th>\n      <td>Kavieng</td>\n      <td>PG</td>\n      <td>82.62</td>\n      <td>-2.5744</td>\n      <td>150.7967</td>\n      <td></td>\n    </tr>\n    <tr>\n      <th>6</th>\n      <td>Harper</td>\n      <td>LR</td>\n      <td>85.53</td>\n      <td>4.3750</td>\n      <td>-7.7169</td>\n      <td></td>\n    </tr>\n    <tr>\n      <th>8</th>\n      <td>Hobyo</td>\n      <td>SO</td>\n      <td>86.52</td>\n      <td>5.3505</td>\n      <td>48.5268</td>\n      <td></td>\n    </tr>\n    <tr>\n      <th>13</th>\n      <td>Arraial Do Cabo</td>\n      <td>BR</td>\n      <td>78.80</td>\n      <td>-22.9661</td>\n      <td>-42.0278</td>\n      <td></td>\n    </tr>\n    <tr>\n      <th>14</th>\n      <td>Vaini</td>\n      <td>TO</td>\n      <td>77.00</td>\n      <td>-21.2000</td>\n      <td>-175.2000</td>\n      <td></td>\n    </tr>\n    <tr>\n      <th>15</th>\n      <td>Owando</td>\n      <td>CG</td>\n      <td>81.86</td>\n      <td>-0.4819</td>\n      <td>15.8999</td>\n      <td></td>\n    </tr>\n    <tr>\n      <th>20</th>\n      <td>Ilhabela</td>\n      <td>BR</td>\n      <td>77.72</td>\n      <td>-23.7781</td>\n      <td>-45.3581</td>\n      <td></td>\n    </tr>\n    <tr>\n      <th>21</th>\n      <td>Conde</td>\n      <td>BR</td>\n      <td>84.20</td>\n      <td>-7.2597</td>\n      <td>-34.9075</td>\n      <td></td>\n    </tr>\n    <tr>\n      <th>22</th>\n      <td>Roebourne</td>\n      <td>AU</td>\n      <td>85.03</td>\n      <td>-20.7833</td>\n      <td>117.1333</td>\n      <td></td>\n    </tr>\n    <tr>\n      <th>25</th>\n      <td>Acapulco</td>\n      <td>MX</td>\n      <td>77.41</td>\n      <td>16.8634</td>\n      <td>-99.8901</td>\n      <td></td>\n    </tr>\n  </tbody>\n</table>\n</div>"
     },
     "metadata": {},
     "execution_count": 15
    }
   ],
   "source": [
    "# Create DataFrame called hotel_df to store hotel names along with city, \n",
    "# country, max temp, and coordinates.\n",
    "hotel_df = preferred_cities_df[[\"City\", \"Country\", \"Max Temp\", \"Lat\", \"Lng\"]].copy()\n",
    "hotel_df[\"Hotel Name\"] = \"\"\n",
    "hotel_df.head(10)"
   ]
  },
  {
   "cell_type": "markdown",
   "metadata": {},
   "source": [
    "### Retrieve Hotels from a Nearby Search"
   ]
  },
  {
   "cell_type": "code",
   "execution_count": 16,
   "metadata": {},
   "outputs": [],
   "source": [
    "# Set parameters to search for a hotel.\n",
    "params = {\n",
    "    \"radius\": 5000,\n",
    "    \"type\": \"lodging\",\n",
    "    \"key\": g_key\n",
    "}"
   ]
  },
  {
   "cell_type": "code",
   "execution_count": 18,
   "metadata": {},
   "outputs": [
    {
     "output_type": "stream",
     "name": "stdout",
     "text": [
      "Hotel not found... skipping.\n",
      "Hotel not found... skipping.\n",
      "Hotel not found... skipping.\n",
      "Hotel not found... skipping.\n",
      "Hotel not found... skipping.\n",
      "Hotel not found... skipping.\n",
      "Hotel not found... skipping.\n",
      "Hotel not found... skipping.\n",
      "Hotel not found... skipping.\n",
      "Hotel not found... skipping.\n",
      "Hotel not found... skipping.\n"
     ]
    }
   ],
   "source": [
    "# Iterate through the DataFrame.\n",
    "for index, row in hotel_df.iterrows():\n",
    "    # Get the latitude and longitude.\n",
    "    lat = row[\"Lat\"]\n",
    "    lng = row[\"Lng\"]\n",
    "\n",
    "    # Add the latitude and longitude to location key for the params dictionary.\n",
    "    params[\"location\"] = f\"{lat},{lng}\"\n",
    "\n",
    "    # Use the search term: \"lodging\" and our latitude and longitude.\n",
    "    base_url = \"https://maps.googleapis.com/maps/api/place/nearbysearch/json\"\n",
    "    \n",
    "    # Make request and get the JSON data from the search.\n",
    "    hotels = requests.get(base_url, params=params).json()\n",
    "    \n",
    "    # Grab the first hotel from the results and store the name.\n",
    "    try:\n",
    "        hotel_df.loc[index, \"Hotel Name\"] = hotels[\"results\"][0][\"name\"]\n",
    "    except (IndexError):\n",
    "        print(\"Hotel not found... skipping.\")"
   ]
  },
  {
   "cell_type": "code",
   "execution_count": 19,
   "metadata": {},
   "outputs": [
    {
     "output_type": "execute_result",
     "data": {
      "text/plain": [
       "               City Country  Max Temp      Lat       Lng  \\\n",
       "1           Kavieng      PG     82.62  -2.5744  150.7967   \n",
       "6            Harper      LR     85.53   4.3750   -7.7169   \n",
       "8             Hobyo      SO     86.52   5.3505   48.5268   \n",
       "13  Arraial Do Cabo      BR     78.80 -22.9661  -42.0278   \n",
       "14            Vaini      TO     77.00 -21.2000 -175.2000   \n",
       "15           Owando      CG     81.86  -0.4819   15.8999   \n",
       "20         Ilhabela      BR     77.72 -23.7781  -45.3581   \n",
       "21            Conde      BR     84.20  -7.2597  -34.9075   \n",
       "22        Roebourne      AU     85.03 -20.7833  117.1333   \n",
       "25         Acapulco      MX     77.41  16.8634  -99.8901   \n",
       "\n",
       "                     Hotel Name  \n",
       "1           Nusa Island Retreat  \n",
       "6                   Screensaver  \n",
       "8   Halane Hotel and Restaurent  \n",
       "13          Pousada Porto Praia  \n",
       "14          Keleti Beach Resort  \n",
       "15         Exaunel Hotel Owando  \n",
       "20              Ilha Flat Hotel  \n",
       "21           Pousada Beija Flor  \n",
       "22   Harding River Caravan Park  \n",
       "25    HS Hotsson Smart Acapulco  "
      ],
      "text/html": "<div>\n<style scoped>\n    .dataframe tbody tr th:only-of-type {\n        vertical-align: middle;\n    }\n\n    .dataframe tbody tr th {\n        vertical-align: top;\n    }\n\n    .dataframe thead th {\n        text-align: right;\n    }\n</style>\n<table border=\"1\" class=\"dataframe\">\n  <thead>\n    <tr style=\"text-align: right;\">\n      <th></th>\n      <th>City</th>\n      <th>Country</th>\n      <th>Max Temp</th>\n      <th>Lat</th>\n      <th>Lng</th>\n      <th>Hotel Name</th>\n    </tr>\n  </thead>\n  <tbody>\n    <tr>\n      <th>1</th>\n      <td>Kavieng</td>\n      <td>PG</td>\n      <td>82.62</td>\n      <td>-2.5744</td>\n      <td>150.7967</td>\n      <td>Nusa Island Retreat</td>\n    </tr>\n    <tr>\n      <th>6</th>\n      <td>Harper</td>\n      <td>LR</td>\n      <td>85.53</td>\n      <td>4.3750</td>\n      <td>-7.7169</td>\n      <td>Screensaver</td>\n    </tr>\n    <tr>\n      <th>8</th>\n      <td>Hobyo</td>\n      <td>SO</td>\n      <td>86.52</td>\n      <td>5.3505</td>\n      <td>48.5268</td>\n      <td>Halane Hotel and Restaurent</td>\n    </tr>\n    <tr>\n      <th>13</th>\n      <td>Arraial Do Cabo</td>\n      <td>BR</td>\n      <td>78.80</td>\n      <td>-22.9661</td>\n      <td>-42.0278</td>\n      <td>Pousada Porto Praia</td>\n    </tr>\n    <tr>\n      <th>14</th>\n      <td>Vaini</td>\n      <td>TO</td>\n      <td>77.00</td>\n      <td>-21.2000</td>\n      <td>-175.2000</td>\n      <td>Keleti Beach Resort</td>\n    </tr>\n    <tr>\n      <th>15</th>\n      <td>Owando</td>\n      <td>CG</td>\n      <td>81.86</td>\n      <td>-0.4819</td>\n      <td>15.8999</td>\n      <td>Exaunel Hotel Owando</td>\n    </tr>\n    <tr>\n      <th>20</th>\n      <td>Ilhabela</td>\n      <td>BR</td>\n      <td>77.72</td>\n      <td>-23.7781</td>\n      <td>-45.3581</td>\n      <td>Ilha Flat Hotel</td>\n    </tr>\n    <tr>\n      <th>21</th>\n      <td>Conde</td>\n      <td>BR</td>\n      <td>84.20</td>\n      <td>-7.2597</td>\n      <td>-34.9075</td>\n      <td>Pousada Beija Flor</td>\n    </tr>\n    <tr>\n      <th>22</th>\n      <td>Roebourne</td>\n      <td>AU</td>\n      <td>85.03</td>\n      <td>-20.7833</td>\n      <td>117.1333</td>\n      <td>Harding River Caravan Park</td>\n    </tr>\n    <tr>\n      <th>25</th>\n      <td>Acapulco</td>\n      <td>MX</td>\n      <td>77.41</td>\n      <td>16.8634</td>\n      <td>-99.8901</td>\n      <td>HS Hotsson Smart Acapulco</td>\n    </tr>\n  </tbody>\n</table>\n</div>"
     },
     "metadata": {},
     "execution_count": 19
    }
   ],
   "source": [
    "hotel_df.head(10)"
   ]
  },
  {
   "cell_type": "code",
   "execution_count": 20,
   "metadata": {},
   "outputs": [
    {
     "output_type": "display_data",
     "data": {
      "text/plain": "Figure(layout=FigureLayout(height='420px'))",
      "application/vnd.jupyter.widget-view+json": {
       "version_major": 2,
       "version_minor": 0,
       "model_id": "cebbbec03dc8404292963862500b2ff9"
      }
     },
     "metadata": {}
    }
   ],
   "source": [
    "# Add a heatmap of temperature for the vacation spots.\n",
    "locations = hotel_df[[\"Lat\", \"Lng\"]]\n",
    "max_temp = hotel_df[\"Max Temp\"]\n",
    "fig = gmaps.figure(center=(30.0, 31.0), zoom_level=1.5)\n",
    "heat_layer = gmaps.heatmap_layer(locations, \n",
    "                                 weights=max_temp, \n",
    "                                 dissipating=False,\n",
    "                                 max_intensity=300, \n",
    "                                 point_radius=4)\n",
    "\n",
    "fig.add_layer(heat_layer)\n",
    "# Call the figure to plot the data.\n",
    "fig"
   ]
  },
  {
   "cell_type": "code",
   "execution_count": 21,
   "metadata": {},
   "outputs": [
    {
     "output_type": "display_data",
     "data": {
      "text/plain": "Figure(layout=FigureLayout(height='420px'))",
      "application/vnd.jupyter.widget-view+json": {
       "version_major": 2,
       "version_minor": 0,
       "model_id": "ae24a0d8ca0e4cd881f00e49f6acf806"
      }
     },
     "metadata": {}
    }
   ],
   "source": [
    "# Add a heatmap of temperature for the vacation spots and marker for each city.\n",
    "locations = hotel_df[[\"Lat\", \"Lng\"]]\n",
    "max_temp = hotel_df[\"Max Temp\"]\n",
    "fig = gmaps.figure(center=(30.0, 31.0), zoom_level=1.5)\n",
    "heat_layer = gmaps.heatmap_layer(locations, \n",
    "                                 weights=max_temp,\n",
    "                                 dissipating=False, \n",
    "                                 max_intensity=300, \n",
    "                                 point_radius=4)\n",
    "marker_layer = gmaps.marker_layer(locations)\n",
    "fig.add_layer(heat_layer)\n",
    "fig.add_layer(marker_layer)\n",
    "# Call the figure to plot the data.\n",
    "fig"
   ]
  },
  {
   "cell_type": "code",
   "execution_count": 22,
   "metadata": {},
   "outputs": [],
   "source": [
    "info_box_template = \"\"\"\n",
    "<dl>\n",
    "<dt>Hotel Name</dt><dd>{Hotel Name}</dd>\n",
    "<dt>City</dt><dd>{City}</dd>\n",
    "<dt>Country</dt><dd>{Country}</dd>\n",
    "<dt>Max Temp</dt><dd>{Max Temp} °F</dd>\n",
    "</dl>\n",
    "\"\"\""
   ]
  },
  {
   "cell_type": "code",
   "execution_count": 23,
   "metadata": {},
   "outputs": [],
   "source": [
    "# Store the DataFrame Row.\n",
    "hotel_info = [info_box_template.format(**row) for index, row in hotel_df.iterrows()]"
   ]
  },
  {
   "cell_type": "code",
   "execution_count": 24,
   "metadata": {},
   "outputs": [
    {
     "output_type": "display_data",
     "data": {
      "text/plain": "Figure(layout=FigureLayout(height='420px'))",
      "application/vnd.jupyter.widget-view+json": {
       "version_major": 2,
       "version_minor": 0,
       "model_id": "0dd7ee6b6bc84b08989517c0e421a211"
      }
     },
     "metadata": {}
    }
   ],
   "source": [
    "# Add a heatmap of temperature for the vacation spots and a pop-up marker for each city.\n",
    "locations = hotel_df[[\"Lat\", \"Lng\"]]\n",
    "max_temp = hotel_df[\"Max Temp\"]\n",
    "fig = gmaps.figure(center=(30.0, 31.0), zoom_level=1.5)\n",
    "heat_layer = gmaps.heatmap_layer(locations, \n",
    "                                 weights=max_temp,\n",
    "                                 dissipating=False,\n",
    "                                 max_intensity=300, \n",
    "                                 point_radius=4)\n",
    "marker_layer = gmaps.marker_layer(locations, info_box_content=hotel_info)\n",
    "fig.add_layer(heat_layer)\n",
    "fig.add_layer(marker_layer)\n",
    "\n",
    "# Call the figure to plot the data.\n",
    "fig"
   ]
  }
 ],
 "metadata": {
  "kernelspec": {
   "name": "pythondata",
   "display_name": "Python 3.7.9 64-bit ('PythonData': conda)"
  },
  "language_info": {
   "codemirror_mode": {
    "name": "ipython",
    "version": 3
   },
   "file_extension": ".py",
   "mimetype": "text/x-python",
   "name": "python",
   "nbconvert_exporter": "python",
   "pygments_lexer": "ipython3",
   "version": "3.7.9-final"
  }
 },
 "nbformat": 4,
 "nbformat_minor": 4
}